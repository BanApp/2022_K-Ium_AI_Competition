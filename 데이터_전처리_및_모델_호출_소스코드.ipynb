{
  "nbformat": 4,
  "nbformat_minor": 0,
  "metadata": {
    "colab": {
      "provenance": [],
      "collapsed_sections": [
        "4vmvVXxmZAC4"
      ]
    },
    "kernelspec": {
      "name": "python3",
      "display_name": "Python 3"
    },
    "language_info": {
      "name": "python"
    },
    "accelerator": "GPU"
  },
  "cells": [
    {
      "cell_type": "markdown",
      "source": [
        "# 2022년 k-ium 의료인공지능경진대회\n",
        "##단국대학교 컴퓨터공학과 정민준\n",
        "###jmj284@gmail.com, 010-9391-0801\n",
        "\n",
        "\n",
        "#<데이터 전처리 및 모델 사용&평가>\n",
        "\n",
        "\n",
        "##<학습 및 테스트 환경> \n",
        "본 프로그램은 'Google Colab' 환경에서 작성 되었습니다.<br>\n",
        "플랫폼: 'Goolge Colab'<br> \n",
        "GPU: Tesla T4<br> \n",
        "GPU API: cuda<br>\n",
        "<br>사용한 언어 및 라이브러리는 아래와 같습니다.\n",
        "<br>\n",
        "\n",
        "## <언어> <br>\n",
        "\n",
        "###1. python3\n",
        "Version: 3.7.14 (default, Sep  8 2022, 00:06:44)<br>\n",
        "GCC 7.5.0<br>\n",
        "\n",
        "## <라이브러리> <br>\n",
        "\n",
        "###1. transformers\n",
        "Version: 4.23.1<br> \n",
        "License: Apache<br>\n",
        "\n",
        "###2. torch\n",
        "Version: 1.12.1+cu113<br>\n",
        "License: BSD-3<br>\n",
        "\n",
        "###3. tensorflow)<br>\n",
        "Version: 2.9.2<br>\n",
        "License: Apache 2.0<br>\n",
        "\n",
        "###4. keras\n",
        "Version: 2.9.0<br>\n",
        "License: Apache 2.0<br>\n",
        "\n",
        "###5. scikit-learn\n",
        "Version: 1.0.2<br>\n",
        "License: new BSD<br>\n",
        "\n",
        "###6. pandas\n",
        "Version: 1.3.5<br> \n",
        "License: BSD-3-Clause<br>\n",
        "\n",
        "###7. numpy\n",
        "Version: 1.21.6<br>\n",
        "License: BSD<br>\n",
        "\n",
        "###8. matplotlib\n",
        "Version: 3.2.2<br> \n",
        "License: PSF<br>\n",
        "\n",
        "## <사전학습모델> \n",
        "bert-base-multilingual-cased<br>\n",
        "License: Apache 2.0\n",
        "\n",
        "## <참고자료>\n",
        "\n",
        "1. https://mccormickml.com/2019/07/22/BERT-fine-tuning/\n",
        "\n",
        "2. https://colab.research.google.com/drive/1tIf0Ugdqg4qT7gcxia3tL7und64Rv1dP#scrollTo=P58qy4--s5_x\n",
        "\n",
        "3. https://velog.io/@seolini43/일상연애-주제의-한국어-대화-BERT로-이진-분류-모델-만들기파이썬Colab-코드\n",
        "\n"
      ],
      "metadata": {
        "id": "7gI4V5suYApw"
      }
    },
    {
      "cell_type": "markdown",
      "source": [
        "#1. 라이브러리 호출, 버전 및 라이센스 확인"
      ],
      "metadata": {
        "id": "4vmvVXxmZAC4"
      }
    },
    {
      "cell_type": "code",
      "source": [
        "#트랜스포머 모듈 설치\n",
        "#colab이 아닌 로컬 환경에서는 아래 주석처리후 터미널에서 설치 필요\n",
        "!pip install transformers"
      ],
      "metadata": {
        "id": "DKSJP4YQDzVe",
        "colab": {
          "base_uri": "https://localhost:8080/"
        },
        "outputId": "66398c08-c095-4d55-e715-65506e480530"
      },
      "execution_count": 1,
      "outputs": [
        {
          "output_type": "stream",
          "name": "stdout",
          "text": [
            "Looking in indexes: https://pypi.org/simple, https://us-python.pkg.dev/colab-wheels/public/simple/\n",
            "Collecting transformers\n",
            "  Downloading transformers-4.23.1-py3-none-any.whl (5.3 MB)\n",
            "\u001b[K     |████████████████████████████████| 5.3 MB 33.8 MB/s \n",
            "\u001b[?25hCollecting huggingface-hub<1.0,>=0.10.0\n",
            "  Downloading huggingface_hub-0.10.1-py3-none-any.whl (163 kB)\n",
            "\u001b[K     |████████████████████████████████| 163 kB 68.0 MB/s \n",
            "\u001b[?25hRequirement already satisfied: pyyaml>=5.1 in /usr/local/lib/python3.7/dist-packages (from transformers) (6.0)\n",
            "Requirement already satisfied: filelock in /usr/local/lib/python3.7/dist-packages (from transformers) (3.8.0)\n",
            "Requirement already satisfied: tqdm>=4.27 in /usr/local/lib/python3.7/dist-packages (from transformers) (4.64.1)\n",
            "Requirement already satisfied: requests in /usr/local/lib/python3.7/dist-packages (from transformers) (2.23.0)\n",
            "Requirement already satisfied: numpy>=1.17 in /usr/local/lib/python3.7/dist-packages (from transformers) (1.21.6)\n",
            "Collecting tokenizers!=0.11.3,<0.14,>=0.11.1\n",
            "  Downloading tokenizers-0.13.1-cp37-cp37m-manylinux_2_17_x86_64.manylinux2014_x86_64.whl (7.6 MB)\n",
            "\u001b[K     |████████████████████████████████| 7.6 MB 64.4 MB/s \n",
            "\u001b[?25hRequirement already satisfied: packaging>=20.0 in /usr/local/lib/python3.7/dist-packages (from transformers) (21.3)\n",
            "Requirement already satisfied: regex!=2019.12.17 in /usr/local/lib/python3.7/dist-packages (from transformers) (2022.6.2)\n",
            "Requirement already satisfied: importlib-metadata in /usr/local/lib/python3.7/dist-packages (from transformers) (4.13.0)\n",
            "Requirement already satisfied: typing-extensions>=3.7.4.3 in /usr/local/lib/python3.7/dist-packages (from huggingface-hub<1.0,>=0.10.0->transformers) (4.1.1)\n",
            "Requirement already satisfied: pyparsing!=3.0.5,>=2.0.2 in /usr/local/lib/python3.7/dist-packages (from packaging>=20.0->transformers) (3.0.9)\n",
            "Requirement already satisfied: zipp>=0.5 in /usr/local/lib/python3.7/dist-packages (from importlib-metadata->transformers) (3.9.0)\n",
            "Requirement already satisfied: urllib3!=1.25.0,!=1.25.1,<1.26,>=1.21.1 in /usr/local/lib/python3.7/dist-packages (from requests->transformers) (1.24.3)\n",
            "Requirement already satisfied: idna<3,>=2.5 in /usr/local/lib/python3.7/dist-packages (from requests->transformers) (2.10)\n",
            "Requirement already satisfied: certifi>=2017.4.17 in /usr/local/lib/python3.7/dist-packages (from requests->transformers) (2022.9.24)\n",
            "Requirement already satisfied: chardet<4,>=3.0.2 in /usr/local/lib/python3.7/dist-packages (from requests->transformers) (3.0.4)\n",
            "Installing collected packages: tokenizers, huggingface-hub, transformers\n",
            "Successfully installed huggingface-hub-0.10.1 tokenizers-0.13.1 transformers-4.23.1\n"
          ]
        }
      ]
    },
    {
      "cell_type": "code",
      "source": [
        "import tensorflow as tf\n",
        "import torch\n",
        "\n",
        "from transformers import BertTokenizer\n",
        "from transformers import BertForSequenceClassification, AdamW, BertConfig\n",
        "from transformers import get_linear_schedule_with_warmup\n",
        "from torch.utils.data import TensorDataset, DataLoader, RandomSampler, SequentialSampler\n",
        "from keras_preprocessing.sequence import pad_sequences\n",
        "from sklearn.model_selection import train_test_split\n",
        "import matplotlib.pyplot as plt\n",
        "\n",
        "import pandas as pd\n",
        "import numpy as np\n",
        "import random\n",
        "import time\n",
        "import datetime"
      ],
      "metadata": {
        "id": "vLAItuO7D2af"
      },
      "execution_count": 2,
      "outputs": []
    },
    {
      "cell_type": "code",
      "source": [
        "#라이브러리 버전 확인, 확인 필요시 주석 제거 후 사용\n",
        "\n",
        "import sys\n",
        "'''\n",
        "print(sys.version)\n",
        "print()\n",
        "!pip show transformers\n",
        "print()\n",
        "!pip show torch\n",
        "print()\n",
        "!pip show tensorflow\n",
        "print()\n",
        "!pip show keras \n",
        "print()\n",
        "!pip show scikit-learn \n",
        "print()\n",
        "!pip show pandas\n",
        "print()\n",
        "!pip show numpy\n",
        "print()\n",
        "!pip show matplotlib\n",
        "'''"
      ],
      "metadata": {
        "colab": {
          "base_uri": "https://localhost:8080/",
          "height": 1000
        },
        "id": "v5--ZVZSVSGZ",
        "outputId": "f782d685-1956-4654-c6cb-14516becdae7"
      },
      "execution_count": 3,
      "outputs": [
        {
          "output_type": "execute_result",
          "data": {
            "text/plain": [
              "'\\nprint(sys.version)\\nprint()\\n!pip show transformers\\nprint()\\n!pip show torch\\nprint()\\n!pip show tensorflow\\nprint()\\n!pip show keras \\nprint()\\n!pip show scikit-learn \\nprint()\\n!pip show pandas\\nprint()\\n!pip show numpy\\nprint()\\n!pip show matplotlib\\n'"
            ],
            "application/vnd.google.colaboratory.intrinsic+json": {
              "type": "string"
            }
          },
          "metadata": {},
          "execution_count": 3
        }
      ]
    },
    {
      "cell_type": "code",
      "source": [
        "#코랩 환경에서 구글 드라이브 사용시 마운트 필요, 불필요 혹은 오류 발생시 주석 처리 후 실행\n",
        "from google.colab import drive\n",
        "drive.mount('/drive')"
      ],
      "metadata": {
        "colab": {
          "base_uri": "https://localhost:8080/"
        },
        "id": "Mmq8MSkzK6hT",
        "outputId": "c0016b31-9226-4f64-c47b-3990466501ea"
      },
      "execution_count": 4,
      "outputs": [
        {
          "output_type": "stream",
          "name": "stdout",
          "text": [
            "Mounted at /drive\n"
          ]
        }
      ]
    },
    {
      "cell_type": "markdown",
      "source": [
        "#2. 모델 호출"
      ],
      "metadata": {
        "id": "lwAY6lopZNrH"
      }
    },
    {
      "cell_type": "code",
      "execution_count": 5,
      "metadata": {
        "id": "PsXh_P9UDIBE",
        "colab": {
          "base_uri": "https://localhost:8080/"
        },
        "outputId": "19c9e0de-be47-410f-b16e-f89f5135e21d"
      },
      "outputs": [
        {
          "output_type": "stream",
          "name": "stdout",
          "text": [
            "#################<모델 호출>#################\n",
            "\n",
            "<경로에 존재해야 하는 파일들>\n",
            "1. config.json\n",
            "2. pytorch_model.bin\n",
            "3. special_tokens_map.json\n",
            "4. tokenizer_config.json\n",
            "5. vocab.txt\n",
            "\n",
            "예시) /drive/MyDrive/submit_model\n",
            "입력) 위의 예시와 같이 모델의 5개 파일이 존재하는 디렉토리의 경로를 입력하세요: /drive/MyDrive/no_valid_model\n",
            "\n",
            "모델 호출중...\n",
            "#########################################\n",
            "모델 호출 성공!\n"
          ]
        }
      ],
      "source": [
        "#모델 호출\n",
        "\n",
        "'''\n",
        "mdoel은 5개의 파일로 이루어져 있다.\n",
        "1. config.json\n",
        "2. pytorch_model.bin\n",
        "3. special_tokens_map.json\n",
        "4. tokenizer_config.json\n",
        "5. vocab.txt\n",
        "'''\n",
        "#model_path 변수에 사용할 모델의 경로 삽입\n",
        "model_path = '/drive/MyDrive/submit_model'\n",
        "\n",
        "print(\"#################<모델 호출>#################\")\n",
        "print()\n",
        "print(\"<경로에 존재해야 하는 파일들>\")\n",
        "print(\"1. config.json\")\n",
        "print(\"2. pytorch_model.bin\")\n",
        "print(\"3. special_tokens_map.json\")\n",
        "print(\"4. tokenizer_config.json\")\n",
        "print(\"5. vocab.txt\")\n",
        "print()\n",
        "print(\"예시) /drive/MyDrive/submit_model\")\n",
        "model_path = input(\"입력) 위의 예시와 같이 모델의 5개 파일이 존재하는 디렉토리의 경로를 입력하세요: \")\n",
        "print()\n",
        "print(\"모델 호출중...\")\n",
        "print(\"#########################################\")\n",
        "\n",
        "\n",
        "#토크나이저 할당\n",
        "tokenizer = BertTokenizer.from_pretrained(model_path)\n",
        "\n",
        "#모델할당\n",
        "model = BertForSequenceClassification.from_pretrained(model_path).to(\"cuda\")\n",
        "\n",
        "print(\"모델 호출 성공!\")"
      ]
    },
    {
      "cell_type": "markdown",
      "source": [
        "#3. 데이터 호출"
      ],
      "metadata": {
        "id": "6n_5euLHZWVr"
      }
    },
    {
      "cell_type": "code",
      "source": [
        "import csv\n",
        "\n",
        "#평가할 데이터 호출\n",
        "#data_path 변수에 평가 및 입력 데이터(csv파일) 경로 삽입\n",
        "data_path = '/drive/MyDrive/TrainSet _1st.csv'\n",
        "\n",
        "print(\"#################<데이터 호출>#################\")\n",
        "print()\n",
        "print(\"예시) /drive/MyDrive/TrainSet _1st.csv\")\n",
        "data_path = input(\"위의 예시와 같이 평가할 Data Set 파일이 존재하는 디렉토리의 경로를 입력하세요: \")\n",
        "print()\n",
        "print(\"##########################################\")\n",
        "\n",
        "data = pd.read_csv(data_path,encoding=\"utf-8\")\n",
        "\n",
        "#자료의 컬럼명을 통일 시켜주기\n",
        "data.columns=['Findings','Conclusion','AcuteInfarction']\n",
        "\n",
        "#Findings 컬럼과 Conclusion 컬럼을 합쳐준다.\n",
        "for i in range(len(data)):\n",
        "  data['Findings'][i] = str(data['Findings'][i]) + ' ' + str(data['Conclusion'][i]) \n",
        "\n",
        "#test = data[:], data의 이름을 test로 바꿔줌, 아래의 방법이 메모리 절약에 유리\n",
        "test = data\n",
        "\n",
        "print(\"데이터 셋 호출 성공!\")\n",
        "\n",
        "#입력 데이터 확인\n",
        "test.head()\n",
        "\n"
      ],
      "metadata": {
        "id": "A2spVm6AKH0M",
        "colab": {
          "base_uri": "https://localhost:8080/",
          "height": 403
        },
        "outputId": "3cccf4bf-d0d5-47fe-f917-f48a8fef7bb3"
      },
      "execution_count": 6,
      "outputs": [
        {
          "output_type": "stream",
          "name": "stdout",
          "text": [
            "#################<데이터 호출>#################\n",
            "\n",
            "예시) /drive/MyDrive/TrainSet _1st.csv\n",
            "위의 예시와 같이 평가할 Data Set 파일이 존재하는 디렉토리의 경로를 입력하세요: /drive/MyDrive/TrainSet _1st.csv\n",
            "\n",
            "##########################################\n"
          ]
        },
        {
          "output_type": "stream",
          "name": "stderr",
          "text": [
            "/usr/local/lib/python3.7/dist-packages/ipykernel_launcher.py:21: SettingWithCopyWarning: \n",
            "A value is trying to be set on a copy of a slice from a DataFrame\n",
            "\n",
            "See the caveats in the documentation: https://pandas.pydata.org/pandas-docs/stable/user_guide/indexing.html#returning-a-view-versus-a-copy\n"
          ]
        },
        {
          "output_type": "stream",
          "name": "stdout",
          "text": [
            "데이터 셋 호출 성공!\n"
          ]
        },
        {
          "output_type": "execute_result",
          "data": {
            "text/plain": [
              "                                            Findings  \\\n",
              "0  Clinical information : 두부외상 후 후유증 평가\\r\\n\\r\\nAx...   \n",
              "1  Clinical information : lung cancer\\nAxial T1WI...   \n",
              "2  Clinical information : Multiple Sclerosis\\r\\n\\...   \n",
              "3  Clinical information : patient with DLBCL.\\r\\n...   \n",
              "4  Clinical information : Transient cerebral isch...   \n",
              "\n",
              "                                          Conclusion  AcuteInfarction  \n",
              "0  1. Encephalomalacic change in both frontal lob...                0  \n",
              "1  1. No change of focal enhancing lesion in left...                0  \n",
              "2  No significant interval change of abnormal hyp...                0  \n",
              "3  1. Decreased extent of enhancing mass in the l...                0  \n",
              "4  1. Acute infarctions at right BG, right F-P-T ...                1  "
            ],
            "text/html": [
              "\n",
              "  <div id=\"df-6f5b1b2e-1011-4723-91af-a4c6a7f1ae22\">\n",
              "    <div class=\"colab-df-container\">\n",
              "      <div>\n",
              "<style scoped>\n",
              "    .dataframe tbody tr th:only-of-type {\n",
              "        vertical-align: middle;\n",
              "    }\n",
              "\n",
              "    .dataframe tbody tr th {\n",
              "        vertical-align: top;\n",
              "    }\n",
              "\n",
              "    .dataframe thead th {\n",
              "        text-align: right;\n",
              "    }\n",
              "</style>\n",
              "<table border=\"1\" class=\"dataframe\">\n",
              "  <thead>\n",
              "    <tr style=\"text-align: right;\">\n",
              "      <th></th>\n",
              "      <th>Findings</th>\n",
              "      <th>Conclusion</th>\n",
              "      <th>AcuteInfarction</th>\n",
              "    </tr>\n",
              "  </thead>\n",
              "  <tbody>\n",
              "    <tr>\n",
              "      <th>0</th>\n",
              "      <td>Clinical information : 두부외상 후 후유증 평가\\r\\n\\r\\nAx...</td>\n",
              "      <td>1. Encephalomalacic change in both frontal lob...</td>\n",
              "      <td>0</td>\n",
              "    </tr>\n",
              "    <tr>\n",
              "      <th>1</th>\n",
              "      <td>Clinical information : lung cancer\\nAxial T1WI...</td>\n",
              "      <td>1. No change of focal enhancing lesion in left...</td>\n",
              "      <td>0</td>\n",
              "    </tr>\n",
              "    <tr>\n",
              "      <th>2</th>\n",
              "      <td>Clinical information : Multiple Sclerosis\\r\\n\\...</td>\n",
              "      <td>No significant interval change of abnormal hyp...</td>\n",
              "      <td>0</td>\n",
              "    </tr>\n",
              "    <tr>\n",
              "      <th>3</th>\n",
              "      <td>Clinical information : patient with DLBCL.\\r\\n...</td>\n",
              "      <td>1. Decreased extent of enhancing mass in the l...</td>\n",
              "      <td>0</td>\n",
              "    </tr>\n",
              "    <tr>\n",
              "      <th>4</th>\n",
              "      <td>Clinical information : Transient cerebral isch...</td>\n",
              "      <td>1. Acute infarctions at right BG, right F-P-T ...</td>\n",
              "      <td>1</td>\n",
              "    </tr>\n",
              "  </tbody>\n",
              "</table>\n",
              "</div>\n",
              "      <button class=\"colab-df-convert\" onclick=\"convertToInteractive('df-6f5b1b2e-1011-4723-91af-a4c6a7f1ae22')\"\n",
              "              title=\"Convert this dataframe to an interactive table.\"\n",
              "              style=\"display:none;\">\n",
              "        \n",
              "  <svg xmlns=\"http://www.w3.org/2000/svg\" height=\"24px\"viewBox=\"0 0 24 24\"\n",
              "       width=\"24px\">\n",
              "    <path d=\"M0 0h24v24H0V0z\" fill=\"none\"/>\n",
              "    <path d=\"M18.56 5.44l.94 2.06.94-2.06 2.06-.94-2.06-.94-.94-2.06-.94 2.06-2.06.94zm-11 1L8.5 8.5l.94-2.06 2.06-.94-2.06-.94L8.5 2.5l-.94 2.06-2.06.94zm10 10l.94 2.06.94-2.06 2.06-.94-2.06-.94-.94-2.06-.94 2.06-2.06.94z\"/><path d=\"M17.41 7.96l-1.37-1.37c-.4-.4-.92-.59-1.43-.59-.52 0-1.04.2-1.43.59L10.3 9.45l-7.72 7.72c-.78.78-.78 2.05 0 2.83L4 21.41c.39.39.9.59 1.41.59.51 0 1.02-.2 1.41-.59l7.78-7.78 2.81-2.81c.8-.78.8-2.07 0-2.86zM5.41 20L4 18.59l7.72-7.72 1.47 1.35L5.41 20z\"/>\n",
              "  </svg>\n",
              "      </button>\n",
              "      \n",
              "  <style>\n",
              "    .colab-df-container {\n",
              "      display:flex;\n",
              "      flex-wrap:wrap;\n",
              "      gap: 12px;\n",
              "    }\n",
              "\n",
              "    .colab-df-convert {\n",
              "      background-color: #E8F0FE;\n",
              "      border: none;\n",
              "      border-radius: 50%;\n",
              "      cursor: pointer;\n",
              "      display: none;\n",
              "      fill: #1967D2;\n",
              "      height: 32px;\n",
              "      padding: 0 0 0 0;\n",
              "      width: 32px;\n",
              "    }\n",
              "\n",
              "    .colab-df-convert:hover {\n",
              "      background-color: #E2EBFA;\n",
              "      box-shadow: 0px 1px 2px rgba(60, 64, 67, 0.3), 0px 1px 3px 1px rgba(60, 64, 67, 0.15);\n",
              "      fill: #174EA6;\n",
              "    }\n",
              "\n",
              "    [theme=dark] .colab-df-convert {\n",
              "      background-color: #3B4455;\n",
              "      fill: #D2E3FC;\n",
              "    }\n",
              "\n",
              "    [theme=dark] .colab-df-convert:hover {\n",
              "      background-color: #434B5C;\n",
              "      box-shadow: 0px 1px 3px 1px rgba(0, 0, 0, 0.15);\n",
              "      filter: drop-shadow(0px 1px 2px rgba(0, 0, 0, 0.3));\n",
              "      fill: #FFFFFF;\n",
              "    }\n",
              "  </style>\n",
              "\n",
              "      <script>\n",
              "        const buttonEl =\n",
              "          document.querySelector('#df-6f5b1b2e-1011-4723-91af-a4c6a7f1ae22 button.colab-df-convert');\n",
              "        buttonEl.style.display =\n",
              "          google.colab.kernel.accessAllowed ? 'block' : 'none';\n",
              "\n",
              "        async function convertToInteractive(key) {\n",
              "          const element = document.querySelector('#df-6f5b1b2e-1011-4723-91af-a4c6a7f1ae22');\n",
              "          const dataTable =\n",
              "            await google.colab.kernel.invokeFunction('convertToInteractive',\n",
              "                                                     [key], {});\n",
              "          if (!dataTable) return;\n",
              "\n",
              "          const docLinkHtml = 'Like what you see? Visit the ' +\n",
              "            '<a target=\"_blank\" href=https://colab.research.google.com/notebooks/data_table.ipynb>data table notebook</a>'\n",
              "            + ' to learn more about interactive tables.';\n",
              "          element.innerHTML = '';\n",
              "          dataTable['output_type'] = 'display_data';\n",
              "          await google.colab.output.renderOutput(dataTable, element);\n",
              "          const docLink = document.createElement('div');\n",
              "          docLink.innerHTML = docLinkHtml;\n",
              "          element.appendChild(docLink);\n",
              "        }\n",
              "      </script>\n",
              "    </div>\n",
              "  </div>\n",
              "  "
            ]
          },
          "metadata": {},
          "execution_count": 6
        }
      ]
    },
    {
      "cell_type": "markdown",
      "source": [
        "#4. 모델 사용"
      ],
      "metadata": {
        "id": "hQt-57a0Zhcu"
      }
    },
    {
      "cell_type": "code",
      "source": [
        "#코랩 환경에서 gpu 사용가능 여부를 판별 및 device 할당 위해서 사용\n",
        "\n",
        "if torch.cuda.is_available():    \n",
        "    device = torch.device(\"cuda\")\n",
        "    print('There are %d GPU(s) available.' % torch.cuda.device_count())\n",
        "    print('We will use the GPU:', torch.cuda.get_device_name(0))\n",
        "else:\n",
        "    device = torch.device(\"cpu\")\n",
        "    print('No GPU available, using the CPU instead.') "
      ],
      "metadata": {
        "colab": {
          "base_uri": "https://localhost:8080/"
        },
        "id": "hkqsLIHZL0ai",
        "outputId": "6e7764ac-951a-4ca3-fb78-83374a66807c"
      },
      "execution_count": 7,
      "outputs": [
        {
          "output_type": "stream",
          "name": "stdout",
          "text": [
            "There are 1 GPU(s) available.\n",
            "We will use the GPU: Tesla T4\n"
          ]
        }
      ]
    },
    {
      "cell_type": "code",
      "source": [
        "#코랩 환경에서 gpu 캐시 초기화를 위해서 사용, 필요시 주석 제거하고 사용, 오류 발생시 주석 처리 필요\n",
        "'''\n",
        "import gc\n",
        "import torch\n",
        "\n",
        "gc.collect()\n",
        "torch.cuda.empty_cache()\n",
        "'''"
      ],
      "metadata": {
        "id": "AQAnYHmisUzf",
        "colab": {
          "base_uri": "https://localhost:8080/",
          "height": 58
        },
        "outputId": "d5c0a472-060e-4735-e6e2-22d91eee34c8"
      },
      "execution_count": 8,
      "outputs": [
        {
          "output_type": "execute_result",
          "data": {
            "text/plain": [
              "'\\nimport gc\\nimport torch\\n\\ngc.collect()\\ntorch.cuda.empty_cache()\\n'"
            ],
            "application/vnd.google.colaboratory.intrinsic+json": {
              "type": "string"
            }
          },
          "metadata": {},
          "execution_count": 8
        }
      ]
    },
    {
      "cell_type": "code",
      "source": [
        "# 시그모이드\n",
        "def sigmoid(x): \n",
        "    return 1.0/(1 + np.exp(-x))\n",
        "\n",
        "def flat_accuracy(preds, labels):\n",
        "    \n",
        "    pred_flat = np.argmax(preds, axis=1).flatten()\n",
        "    labels_flat = labels.flatten()\n",
        "\n",
        "    return np.sum(pred_flat == labels_flat) / len(labels_flat)\n",
        "\n",
        "def format_time(elapsed):\n",
        "\n",
        "    # 반올림\n",
        "    elapsed_rounded = int(round((elapsed)))\n",
        "    \n",
        "    # hh:mm:ss으로 형태 변경\n",
        "    return str(datetime.timedelta(seconds=elapsed_rounded))\n",
        "\n",
        "\n",
        "test_ans = [] # 모델의 결과 저장\n",
        "test_prob = [] # 가능성 저장\n",
        "\n",
        "# 시작 시간 설정\n",
        "t0 = time.time()\n",
        "\n",
        "# 데이터 전처리\n",
        "def convert_input_data(sentences):\n",
        "    sentences = [\"[CLS] \" + str(sentences) + \" [SEP]\"]\n",
        "\n",
        "    # BERT의 토크나이저로 문장을 토큰으로 분리\n",
        "    tokenized_texts = [tokenizer.tokenize(sent) for sent in sentences]\n",
        "\n",
        "    # 입력 토큰의 최대 시퀀스 길이\n",
        "    MAX_LEN = 510\n",
        "\n",
        "    # 토큰을 숫자 인덱스로 변환\n",
        "    input_ids = [tokenizer.convert_tokens_to_ids(x) for x in tokenized_texts]\n",
        "    \n",
        "    # 문장을 MAX_LEN 길이에 맞게 자르고, 모자란 부분을 패딩 0으로 채움\n",
        "    input_ids = pad_sequences(input_ids, maxlen=MAX_LEN, dtype=\"long\", truncating=\"post\", padding=\"post\")\n",
        "\n",
        "    # 어텐션 마스크 초기화\n",
        "    attention_masks = []\n",
        "\n",
        "    # 어텐션 마스크를 패딩이 아니면 1, 패딩이면 0으로 설정\n",
        "    # 패딩 부분은 BERT 모델에서 어텐션을 수행하지 않아 속도 향상\n",
        "    for seq in input_ids:\n",
        "        seq_mask = [float(i>0) for i in seq]\n",
        "        attention_masks.append(seq_mask)\n",
        "\n",
        "    # 데이터를 파이토치의 텐서로 변환\n",
        "    inputs = torch.tensor(input_ids)\n",
        "    masks = torch.tensor(attention_masks)\n",
        "\n",
        "    return inputs, masks\n",
        "\n",
        "#모델 사용\n",
        "def Determining_Acute_Ischemic_Stroke(sentences):\n",
        "\n",
        "    # 평가모드로 변경\n",
        "    model.eval()\n",
        "\n",
        "    # 문장을 입력 데이터로 변환\n",
        "    inputs, masks = convert_input_data(sentences)\n",
        "\n",
        "    # 데이터를 GPU에 넣음\n",
        "    b_input_ids = inputs.to(device)\n",
        "    b_input_mask = masks.to(device)\n",
        "            \n",
        "    # 그래디언트 계산 안함\n",
        "    with torch.no_grad():     \n",
        "        # Forward 수행\n",
        "        outputs = model(b_input_ids, \n",
        "                        token_type_ids=None, \n",
        "                        attention_mask=b_input_mask)\n",
        "\n",
        "    # 로스 구함\n",
        "    logits = outputs[0]\n",
        "\n",
        "    # CPU로 데이터 이동\n",
        "    logits = logits.detach().cpu().numpy()\n",
        "    \n",
        "    #시그모이드 함수, 확률 판단\n",
        "    pred = sigmoid(logits)\n",
        "    \n",
        "    #결과 판단\n",
        "    result = np.argmax(pred)\n",
        "\n",
        "    return [result,pred]\n",
        "\n",
        "# 이진 분류 결과(0 or 1)이 담길 정답 리스트\n",
        "test_ans = []\n",
        "# 이진 분류 결과의 확률([0~1,0~1])이 담길 정답 리스트\n",
        "test_prob = []\n",
        "\n",
        "# 입력 데이터\n",
        "d = test.Findings\n",
        "\n",
        "# 실제 정답 \n",
        "labels = test.AcuteInfarction\n",
        "\n",
        "print('분류중...')\n",
        "\n",
        "for i in range(len(d)):\n",
        "  # 함수 호출, 이진분류 결과는 a, 확률은 p\n",
        "  a,p = Determining_Acute_Ischemic_Stroke(d[i])\n",
        "  test_ans.append(a) # 결과 값은 test_ans에 저장\n",
        "  test_prob.append(p) # 확률 값은 test_prob에 저장\n",
        "\n",
        "\n",
        "print(\"분류 완료!\")\n",
        "print(\"분류에 소요된 시간: {:}\".format(format_time(time.time() - t0)))\n"
      ],
      "metadata": {
        "id": "0grQyvakLsO9",
        "colab": {
          "base_uri": "https://localhost:8080/"
        },
        "outputId": "199795c2-5989-4a8d-d62a-4d9a8824a5cb"
      },
      "execution_count": 9,
      "outputs": [
        {
          "output_type": "stream",
          "name": "stdout",
          "text": [
            "분류중...\n",
            "분류 완료!\n",
            "분류에 소요된 시간: 0:03:44\n"
          ]
        }
      ]
    },
    {
      "cell_type": "markdown",
      "source": [
        "#5. 모델 평가"
      ],
      "metadata": {
        "id": "o3mcULRQZmzQ"
      }
    },
    {
      "cell_type": "code",
      "source": [
        "from sklearn.metrics import roc_curve, roc_auc_score\n",
        "\n",
        "# probabilty중 정답이 1일 확률이 담길 리스트 \n",
        "t_prob =[]\n",
        "\n",
        "# probabilty중 정답이 1일 확률(model.predict_proba() 와 동일)\n",
        "for i in test_prob:\n",
        "  t_prob.append(i[0][1])\n",
        "\n",
        "# roc_curve 그래프 그리기\n",
        "fpr, tpr, thresholds = roc_curve(labels, t_prob)\n",
        "\n",
        "roc = pd.DataFrame({'FPR(Fall-out)': fpr, 'TPRate(Recall)': tpr, 'Threshold': thresholds})\n",
        "\n",
        "plt.scatter(fpr, tpr)\n",
        "plt.title('model ROC curve')\n",
        "plt.xlabel('FPR(Fall-out)')\n",
        "plt.ylabel('TPR(Recall)');\n",
        "plt.plot(fpr, tpr, 'r--')\n",
        "\n",
        "optimal_idx = np.argmax(tpr - fpr)\n",
        "optimal_threshold = thresholds[optimal_idx]\n",
        "\n",
        "# 최적의 threshold\n",
        "#print('idx:',optimal_idx, 'threshold:', optimal_threshold)\n",
        "\n",
        "# AUC 면적 구하기\n",
        "auc_score = roc_auc_score(labels, t_prob)\n",
        "print('AUC Score:',round(auc_score,6))\n",
        "print()"
      ],
      "metadata": {
        "colab": {
          "base_uri": "https://localhost:8080/",
          "height": 349
        },
        "id": "IdhqYPx5Pkqp",
        "outputId": "c4c889c1-61ba-4e17-f04c-56c304bc2e49"
      },
      "execution_count": 10,
      "outputs": [
        {
          "output_type": "stream",
          "name": "stdout",
          "text": [
            "AUC Score: 0.999155\n",
            "\n"
          ]
        },
        {
          "output_type": "display_data",
          "data": {
            "text/plain": [
              "<Figure size 432x288 with 1 Axes>"
            ],
            "image/png": "[encoded data removed]"
          },
          "metadata": {
            "needs_background": "light"
          }
        }
      ]
    }
  ]
}