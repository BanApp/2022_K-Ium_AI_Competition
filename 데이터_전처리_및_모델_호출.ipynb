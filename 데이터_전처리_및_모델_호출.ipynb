{
  "nbformat": 4,
  "nbformat_minor": 0,
  "metadata": {
    "colab": {
      "provenance": []
    },
    "kernelspec": {
      "name": "python3",
      "display_name": "Python 3"
    },
    "language_info": {
      "name": "python"
    },
    "accelerator": "GPU"
  },
  "cells": [
    {
      "cell_type": "markdown",
      "source": [
        "# 2022년 k-ium 의료인공지능경진대회\n",
        "##단국대학교 컴퓨터공학과 정민준\n",
        "\n",
        "\n",
        "##<데이터 전처리 및 모델 사용&평가>\n",
        "\n",
        "본 프로그램은 'Google Colab' 환경에서 작성 되었습니다.<br>\n",
        "테스트 환경) 플랫폼: 'Goolge Colab', GPU: Tesla T4, GPU API: cuda<br>\n",
        "사용한 언어 및 라이브러리는 아래와 같습니다.\n",
        "<br>\n",
        "\n",
        "##언어 <br>\n",
        "\n",
        "###python3)\n",
        "Version: 3.7.14 (default, Sep  8 2022, 00:06:44)<br>\n",
        "GCC 7.5.0<br>\n",
        "\n",
        "##라이브러리 <br>\n",
        "\n",
        "###transformers)\n",
        "Version: 4.23.1<br> \n",
        "License: Apache<br>\n",
        "\n",
        "###torch)\n",
        "Version: 1.12.1+cu113<br>\n",
        "License: BSD-3<br>\n",
        "\n",
        "###tensorflow)<br>\n",
        "Version: 2.9.2<br>\n",
        "License: Apache 2.0<br>\n",
        "\n",
        "###keras)\n",
        "Version: 2.9.0<br>\n",
        "License: Apache 2.0<br>\n",
        "\n",
        "###scikit-learn)\n",
        "Version: 1.0.2<br>\n",
        "License: new BSD<br>\n",
        "\n",
        "###pandas)\n",
        "Version: 1.3.5<br> \n",
        "License: BSD-3-Clause<br>\n",
        "\n",
        "###numpy)\n",
        "Version: 1.21.6<br>\n",
        "License: BSD<br>\n",
        "\n",
        "###matplotlib)\n",
        "Version: 3.2.2<br> \n",
        "License: PSF<br>\n"
      ],
      "metadata": {
        "id": "7gI4V5suYApw"
      }
    },
    {
      "cell_type": "markdown",
      "source": [
        "#1. 라이브러리 호출, 버전 및 라이센스 확인"
      ],
      "metadata": {
        "id": "4vmvVXxmZAC4"
      }
    },
    {
      "cell_type": "code",
      "source": [
        "#트랜스포머 모듈 설치\n",
        "!pip install transformers"
      ],
      "metadata": {
        "id": "DKSJP4YQDzVe",
        "colab": {
          "base_uri": "https://localhost:8080/"
        },
        "outputId": "36a2cbb3-e699-4244-9207-3a6b3586b098"
      },
      "execution_count": 20,
      "outputs": [
        {
          "output_type": "stream",
          "name": "stdout",
          "text": [
            "Looking in indexes: https://pypi.org/simple, https://us-python.pkg.dev/colab-wheels/public/simple/\n",
            "Requirement already satisfied: transformers in /usr/local/lib/python3.7/dist-packages (4.23.1)\n",
            "Requirement already satisfied: tqdm>=4.27 in /usr/local/lib/python3.7/dist-packages (from transformers) (4.64.1)\n",
            "Requirement already satisfied: numpy>=1.17 in /usr/local/lib/python3.7/dist-packages (from transformers) (1.21.6)\n",
            "Requirement already satisfied: filelock in /usr/local/lib/python3.7/dist-packages (from transformers) (3.8.0)\n",
            "Requirement already satisfied: tokenizers!=0.11.3,<0.14,>=0.11.1 in /usr/local/lib/python3.7/dist-packages (from transformers) (0.13.1)\n",
            "Requirement already satisfied: huggingface-hub<1.0,>=0.10.0 in /usr/local/lib/python3.7/dist-packages (from transformers) (0.10.1)\n",
            "Requirement already satisfied: packaging>=20.0 in /usr/local/lib/python3.7/dist-packages (from transformers) (21.3)\n",
            "Requirement already satisfied: pyyaml>=5.1 in /usr/local/lib/python3.7/dist-packages (from transformers) (6.0)\n",
            "Requirement already satisfied: importlib-metadata in /usr/local/lib/python3.7/dist-packages (from transformers) (5.0.0)\n",
            "Requirement already satisfied: requests in /usr/local/lib/python3.7/dist-packages (from transformers) (2.23.0)\n",
            "Requirement already satisfied: regex!=2019.12.17 in /usr/local/lib/python3.7/dist-packages (from transformers) (2022.6.2)\n",
            "Requirement already satisfied: typing-extensions>=3.7.4.3 in /usr/local/lib/python3.7/dist-packages (from huggingface-hub<1.0,>=0.10.0->transformers) (4.1.1)\n",
            "Requirement already satisfied: pyparsing!=3.0.5,>=2.0.2 in /usr/local/lib/python3.7/dist-packages (from packaging>=20.0->transformers) (3.0.9)\n",
            "Requirement already satisfied: zipp>=0.5 in /usr/local/lib/python3.7/dist-packages (from importlib-metadata->transformers) (3.9.0)\n",
            "Requirement already satisfied: urllib3!=1.25.0,!=1.25.1,<1.26,>=1.21.1 in /usr/local/lib/python3.7/dist-packages (from requests->transformers) (1.25.11)\n",
            "Requirement already satisfied: idna<3,>=2.5 in /usr/local/lib/python3.7/dist-packages (from requests->transformers) (2.10)\n",
            "Requirement already satisfied: chardet<4,>=3.0.2 in /usr/local/lib/python3.7/dist-packages (from requests->transformers) (3.0.4)\n",
            "Requirement already satisfied: certifi>=2017.4.17 in /usr/local/lib/python3.7/dist-packages (from requests->transformers) (2022.9.24)\n"
          ]
        }
      ]
    },
    {
      "cell_type": "code",
      "source": [
        "import tensorflow as tf\n",
        "import torch\n",
        "\n",
        "from transformers import BertTokenizer\n",
        "from transformers import BertForSequenceClassification, AdamW, BertConfig\n",
        "from transformers import get_linear_schedule_with_warmup\n",
        "from torch.utils.data import TensorDataset, DataLoader, RandomSampler, SequentialSampler\n",
        "from keras_preprocessing.sequence import pad_sequences\n",
        "from sklearn.model_selection import train_test_split\n",
        "import matplotlib.pyplot as plt\n",
        "\n",
        "import pandas as pd\n",
        "import numpy as np\n",
        "import random\n",
        "import time\n",
        "import datetime\n",
        "from transformers import TextClassificationPipeline"
      ],
      "metadata": {
        "id": "vLAItuO7D2af"
      },
      "execution_count": 21,
      "outputs": []
    },
    {
      "cell_type": "code",
      "source": [
        "#라이브러리 버전 확인, 확인 필요시 주석 제거 후 사용\n",
        "\n",
        "import sys\n",
        "'''\n",
        "print(sys.version)\n",
        "print()\n",
        "!pip show transformers\n",
        "print()\n",
        "!pip show torch\n",
        "print()\n",
        "!pip show tensorflow\n",
        "print()\n",
        "!pip show keras \n",
        "print()\n",
        "!pip show scikit-learn \n",
        "print()\n",
        "!pip show pandas\n",
        "print()\n",
        "!pip show numpy\n",
        "print()\n",
        "!pip show matplotlib\n",
        "'''"
      ],
      "metadata": {
        "colab": {
          "base_uri": "https://localhost:8080/",
          "height": 1000
        },
        "id": "v5--ZVZSVSGZ",
        "outputId": "c78c8c55-cd38-40e5-f01e-b8ab693470ee"
      },
      "execution_count": 22,
      "outputs": [
        {
          "output_type": "execute_result",
          "data": {
            "text/plain": [
              "'\\nprint(sys.version)\\nprint()\\n!pip show transformers\\nprint()\\n!pip show torch\\nprint()\\n!pip show tensorflow\\nprint()\\n!pip show keras \\nprint()\\n!pip show scikit-learn \\nprint()\\n!pip show pandas\\nprint()\\n!pip show numpy\\nprint()\\n!pip show matplotlib\\n'"
            ],
            "application/vnd.google.colaboratory.intrinsic+json": {
              "type": "string"
            }
          },
          "metadata": {},
          "execution_count": 22
        }
      ]
    },
    {
      "cell_type": "code",
      "source": [
        "#코랩 환경에서 구글 드라이브 사용시 마운트 필요, 불필요 혹은 오류 발생시 주석 처리 후 실행\n",
        "from google.colab import drive\n",
        "drive.mount('/content/drive')"
      ],
      "metadata": {
        "colab": {
          "base_uri": "https://localhost:8080/"
        },
        "id": "Mmq8MSkzK6hT",
        "outputId": "ce39f400-c541-41df-b2f5-acded986263b"
      },
      "execution_count": 23,
      "outputs": [
        {
          "output_type": "stream",
          "name": "stdout",
          "text": [
            "Drive already mounted at /content/drive; to attempt to forcibly remount, call drive.mount(\"/content/drive\", force_remount=True).\n"
          ]
        }
      ]
    },
    {
      "cell_type": "markdown",
      "source": [
        "#2. 모델 호출"
      ],
      "metadata": {
        "id": "lwAY6lopZNrH"
      }
    },
    {
      "cell_type": "code",
      "execution_count": 24,
      "metadata": {
        "id": "PsXh_P9UDIBE"
      },
      "outputs": [],
      "source": [
        "#모델 호출\n",
        "#model_path 변수에 평가 및 입력 데이터 경로 삽입\n",
        "\n",
        "model_path = '/content/drive/MyDrive/model'\n",
        "tokenizer = BertTokenizer.from_pretrained(model_path)\n",
        "model = BertForSequenceClassification.from_pretrained(model_path).to(\"cuda\")"
      ]
    },
    {
      "cell_type": "markdown",
      "source": [
        "#3. 데이터 전처리"
      ],
      "metadata": {
        "id": "6n_5euLHZWVr"
      }
    },
    {
      "cell_type": "code",
      "source": [
        "import csv\n",
        "\n",
        "#평가할 데이터 호출\n",
        "#data_path 변수에 평가 및 입력 데이터 경로 삽입\n",
        "data_path = '/content/drive/MyDrive/TrainSet _1st.csv'\n",
        "data = pd.read_csv(data_path,encoding=\"utf-8\")\n",
        "\n",
        "for i in range(len(data)):\n",
        "  data['Findings'][i] = str(data['Findings'][i]) + str(data['Conclusion\\n'][i]) \n",
        "\n",
        "data_shuffled = data.sample(frac=1).reset_index(drop=True)\n",
        "test = data_shuffled[:] #입력 데이터 랜덤 섞기\n",
        "#refs = [i for i in test.AcuteInfarction] #입력 원본 랜덤 데이터의 정답배열\n",
        "test.head()\n"
      ],
      "metadata": {
        "id": "A2spVm6AKH0M",
        "colab": {
          "base_uri": "https://localhost:8080/",
          "height": 662
        },
        "outputId": "e95d2cb8-ee3f-4271-8684-32d461c1e725"
      },
      "execution_count": 25,
      "outputs": [
        {
          "output_type": "stream",
          "name": "stderr",
          "text": [
            "/usr/local/lib/python3.7/dist-packages/ipykernel_launcher.py:9: SettingWithCopyWarning: \n",
            "A value is trying to be set on a copy of a slice from a DataFrame\n",
            "\n",
            "See the caveats in the documentation: https://pandas.pydata.org/pandas-docs/stable/user_guide/indexing.html#returning-a-view-versus-a-copy\n",
            "  if __name__ == '__main__':\n"
          ]
        },
        {
          "output_type": "execute_result",
          "data": {
            "text/plain": [
              "                                            Findings  \\\n",
              "0  nanno specific interval change of the arachnoi...   \n",
              "1  nanno specific interval change compare to the ...   \n",
              "2  CI, TIA.\\r\\nAxial T1WI, sagittal T1WI, axial T...   \n",
              "3  Clinical information : Cerebral infarction\\r\\n...   \n",
              "4  Clinical information : Cerebral Infarction\\r\\n...   \n",
              "\n",
              "                                        Conclusion\\n  AcuteInfarction  \n",
              "0  no specific interval change of the arachnoid c...                0  \n",
              "1  no specific interval change compare to the lat...                0  \n",
              "2  1. Moyamoya disease.\\r\\n2. Old infarction in t...                0  \n",
              "3  1. No evidence of acute infarction.\\r\\n2. Micr...                0  \n",
              "4  1. No definite evidence of acute infarction.\\r...                0  "
            ],
            "text/html": [
              "\n",
              "  <div id=\"df-2efd6c9d-45ac-4b98-a2a5-aaf741d20339\">\n",
              "    <div class=\"colab-df-container\">\n",
              "      <div>\n",
              "<style scoped>\n",
              "    .dataframe tbody tr th:only-of-type {\n",
              "        vertical-align: middle;\n",
              "    }\n",
              "\n",
              "    .dataframe tbody tr th {\n",
              "        vertical-align: top;\n",
              "    }\n",
              "\n",
              "    .dataframe thead th {\n",
              "        text-align: right;\n",
              "    }\n",
              "</style>\n",
              "<table border=\"1\" class=\"dataframe\">\n",
              "  <thead>\n",
              "    <tr style=\"text-align: right;\">\n",
              "      <th></th>\n",
              "      <th>Findings</th>\n",
              "      <th>Conclusion\\n</th>\n",
              "      <th>AcuteInfarction</th>\n",
              "    </tr>\n",
              "  </thead>\n",
              "  <tbody>\n",
              "    <tr>\n",
              "      <th>0</th>\n",
              "      <td>nanno specific interval change of the arachnoi...</td>\n",
              "      <td>no specific interval change of the arachnoid c...</td>\n",
              "      <td>0</td>\n",
              "    </tr>\n",
              "    <tr>\n",
              "      <th>1</th>\n",
              "      <td>nanno specific interval change compare to the ...</td>\n",
              "      <td>no specific interval change compare to the lat...</td>\n",
              "      <td>0</td>\n",
              "    </tr>\n",
              "    <tr>\n",
              "      <th>2</th>\n",
              "      <td>CI, TIA.\\r\\nAxial T1WI, sagittal T1WI, axial T...</td>\n",
              "      <td>1. Moyamoya disease.\\r\\n2. Old infarction in t...</td>\n",
              "      <td>0</td>\n",
              "    </tr>\n",
              "    <tr>\n",
              "      <th>3</th>\n",
              "      <td>Clinical information : Cerebral infarction\\r\\n...</td>\n",
              "      <td>1. No evidence of acute infarction.\\r\\n2. Micr...</td>\n",
              "      <td>0</td>\n",
              "    </tr>\n",
              "    <tr>\n",
              "      <th>4</th>\n",
              "      <td>Clinical information : Cerebral Infarction\\r\\n...</td>\n",
              "      <td>1. No definite evidence of acute infarction.\\r...</td>\n",
              "      <td>0</td>\n",
              "    </tr>\n",
              "  </tbody>\n",
              "</table>\n",
              "</div>\n",
              "      <button class=\"colab-df-convert\" onclick=\"convertToInteractive('df-2efd6c9d-45ac-4b98-a2a5-aaf741d20339')\"\n",
              "              title=\"Convert this dataframe to an interactive table.\"\n",
              "              style=\"display:none;\">\n",
              "        \n",
              "  <svg xmlns=\"http://www.w3.org/2000/svg\" height=\"24px\"viewBox=\"0 0 24 24\"\n",
              "       width=\"24px\">\n",
              "    <path d=\"M0 0h24v24H0V0z\" fill=\"none\"/>\n",
              "    <path d=\"M18.56 5.44l.94 2.06.94-2.06 2.06-.94-2.06-.94-.94-2.06-.94 2.06-2.06.94zm-11 1L8.5 8.5l.94-2.06 2.06-.94-2.06-.94L8.5 2.5l-.94 2.06-2.06.94zm10 10l.94 2.06.94-2.06 2.06-.94-2.06-.94-.94-2.06-.94 2.06-2.06.94z\"/><path d=\"M17.41 7.96l-1.37-1.37c-.4-.4-.92-.59-1.43-.59-.52 0-1.04.2-1.43.59L10.3 9.45l-7.72 7.72c-.78.78-.78 2.05 0 2.83L4 21.41c.39.39.9.59 1.41.59.51 0 1.02-.2 1.41-.59l7.78-7.78 2.81-2.81c.8-.78.8-2.07 0-2.86zM5.41 20L4 18.59l7.72-7.72 1.47 1.35L5.41 20z\"/>\n",
              "  </svg>\n",
              "      </button>\n",
              "      \n",
              "  <style>\n",
              "    .colab-df-container {\n",
              "      display:flex;\n",
              "      flex-wrap:wrap;\n",
              "      gap: 12px;\n",
              "    }\n",
              "\n",
              "    .colab-df-convert {\n",
              "      background-color: #E8F0FE;\n",
              "      border: none;\n",
              "      border-radius: 50%;\n",
              "      cursor: pointer;\n",
              "      display: none;\n",
              "      fill: #1967D2;\n",
              "      height: 32px;\n",
              "      padding: 0 0 0 0;\n",
              "      width: 32px;\n",
              "    }\n",
              "\n",
              "    .colab-df-convert:hover {\n",
              "      background-color: #E2EBFA;\n",
              "      box-shadow: 0px 1px 2px rgba(60, 64, 67, 0.3), 0px 1px 3px 1px rgba(60, 64, 67, 0.15);\n",
              "      fill: #174EA6;\n",
              "    }\n",
              "\n",
              "    [theme=dark] .colab-df-convert {\n",
              "      background-color: #3B4455;\n",
              "      fill: #D2E3FC;\n",
              "    }\n",
              "\n",
              "    [theme=dark] .colab-df-convert:hover {\n",
              "      background-color: #434B5C;\n",
              "      box-shadow: 0px 1px 3px 1px rgba(0, 0, 0, 0.15);\n",
              "      filter: drop-shadow(0px 1px 2px rgba(0, 0, 0, 0.3));\n",
              "      fill: #FFFFFF;\n",
              "    }\n",
              "  </style>\n",
              "\n",
              "      <script>\n",
              "        const buttonEl =\n",
              "          document.querySelector('#df-2efd6c9d-45ac-4b98-a2a5-aaf741d20339 button.colab-df-convert');\n",
              "        buttonEl.style.display =\n",
              "          google.colab.kernel.accessAllowed ? 'block' : 'none';\n",
              "\n",
              "        async function convertToInteractive(key) {\n",
              "          const element = document.querySelector('#df-2efd6c9d-45ac-4b98-a2a5-aaf741d20339');\n",
              "          const dataTable =\n",
              "            await google.colab.kernel.invokeFunction('convertToInteractive',\n",
              "                                                     [key], {});\n",
              "          if (!dataTable) return;\n",
              "\n",
              "          const docLinkHtml = 'Like what you see? Visit the ' +\n",
              "            '<a target=\"_blank\" href=https://colab.research.google.com/notebooks/data_table.ipynb>data table notebook</a>'\n",
              "            + ' to learn more about interactive tables.';\n",
              "          element.innerHTML = '';\n",
              "          dataTable['output_type'] = 'display_data';\n",
              "          await google.colab.output.renderOutput(dataTable, element);\n",
              "          const docLink = document.createElement('div');\n",
              "          docLink.innerHTML = docLinkHtml;\n",
              "          element.appendChild(docLink);\n",
              "        }\n",
              "      </script>\n",
              "    </div>\n",
              "  </div>\n",
              "  "
            ]
          },
          "metadata": {},
          "execution_count": 25
        }
      ]
    },
    {
      "cell_type": "code",
      "source": [
        "sentences = [\"[CLS] \" + str(sentence) + \" [SEP]\" for sentence in test.Findings]\n",
        "\n",
        "# 라벨 데이터\n",
        "labels = test['AcuteInfarction'].values\n",
        "\n",
        "# Word 토크나이저 토큰화\n",
        "tokenizer = BertTokenizer.from_pretrained('bert-base-multilingual-cased', do_lower_case=False)\n",
        "tokenized_texts = [tokenizer.tokenize(sent) for sent in sentences]\n",
        "\n",
        "# 시퀀스 설정 및 정수 인덱스 변환 & 패딩\n",
        "MAX_LEN = 509\n",
        "input_ids = [tokenizer.convert_tokens_to_ids(x) for x in tokenized_texts]\n",
        "input_ids = pad_sequences(input_ids, maxlen=MAX_LEN, dtype=\"long\", truncating=\"post\", padding=\"post\")\n",
        "\n",
        "# Attention Mask\n",
        "attention_masks = []\n",
        "for seq in input_ids:\n",
        "    seq_mask = [float(i>0) for i in seq]\n",
        "    attention_masks.append(seq_mask)\n",
        "    \n",
        "# 파이토치 -> 텐서 변환\n",
        "test_inputs = torch.tensor(input_ids)\n",
        "test_labels = torch.tensor(labels)\n",
        "test_masks = torch.tensor(attention_masks)\n",
        "\n",
        "# 배치 사이즈 & 데이터 설정\n",
        "batch_size = 16\n",
        "test_data = TensorDataset(test_inputs, test_masks, test_labels)\n",
        "test_sampler = RandomSampler(test_data)\n",
        "test_dataloader = DataLoader(test_data, sampler=test_sampler, batch_size=batch_size)"
      ],
      "metadata": {
        "id": "ishGhNJ2Ko12"
      },
      "execution_count": 26,
      "outputs": []
    },
    {
      "cell_type": "markdown",
      "source": [
        "#4. 모델 사용"
      ],
      "metadata": {
        "id": "hQt-57a0Zhcu"
      }
    },
    {
      "cell_type": "code",
      "source": [
        "if torch.cuda.is_available():    \n",
        "    device = torch.device(\"cuda\")\n",
        "    print('There are %d GPU(s) available.' % torch.cuda.device_count())\n",
        "    print('We will use the GPU:', torch.cuda.get_device_name(0))\n",
        "else:\n",
        "    device = torch.device(\"cpu\")\n",
        "    print('No GPU available, using the CPU instead.')"
      ],
      "metadata": {
        "colab": {
          "base_uri": "https://localhost:8080/"
        },
        "id": "hkqsLIHZL0ai",
        "outputId": "c76d5d54-92ed-43d6-a706-a3918476ce23"
      },
      "execution_count": 27,
      "outputs": [
        {
          "output_type": "stream",
          "name": "stdout",
          "text": [
            "There are 1 GPU(s) available.\n",
            "We will use the GPU: Tesla T4\n"
          ]
        }
      ]
    },
    {
      "cell_type": "code",
      "source": [
        "def flat_accuracy(preds, labels):\n",
        "    \n",
        "    pred_flat = np.argmax(preds, axis=1).flatten()\n",
        "    labels_flat = labels.flatten()\n",
        "\n",
        "    return np.sum(pred_flat == labels_flat) / len(labels_flat)\n",
        "\n",
        "def format_time(elapsed):\n",
        "\n",
        "    # 반올림\n",
        "    elapsed_rounded = int(round((elapsed)))\n",
        "    \n",
        "    # hh:mm:ss으로 형태 변경\n",
        "    return str(datetime.timedelta(seconds=elapsed_rounded))\n",
        "\n",
        "\n",
        "#시작 시간 설정\n",
        "t0 = time.time()\n",
        "\n",
        "# 평가모드로 변경\n",
        "model.eval()\n",
        "\n",
        "# 변수 초기화\n",
        "eval_loss, eval_accuracy = 0, 0\n",
        "nb_eval_steps, nb_eval_examples = 0, 0\n",
        "\n",
        "# 데이터로더에서 배치만큼 반복하여 가져옴\n",
        "for step, batch in enumerate(test_dataloader):\n",
        "    # 경과 정보 표시\n",
        "    if step % 100 == 0 and not step == 0:\n",
        "        elapsed = format_time(time.time() - t0)\n",
        "        print('  Batch {:>5,}  of  {:>5,}.    Elapsed: {:}.'.format(step, len(test_dataloader), elapsed))\n",
        "\n",
        "    # 배치를 GPU에 넣음\n",
        "    batch = tuple(t.to(device) for t in batch)\n",
        "    \n",
        "    # 배치에서 데이터 추출\n",
        "    b_input_ids, b_input_mask, b_labels = batch\n",
        "    \n",
        "    # 그래디언트 계산 안함\n",
        "    with torch.no_grad():     \n",
        "        # Forward 수행\n",
        "        outputs = model(b_input_ids, \n",
        "                        token_type_ids=None, \n",
        "                        attention_mask=b_input_mask)\n",
        "    \n",
        "    # 로스 구함\n",
        "    logits = outputs[0]\n",
        "\n",
        "    # CPU로 데이터 이동\n",
        "    logits = logits.detach().cpu().numpy()\n",
        "    label_ids = b_labels.to('cpu').numpy()\n",
        "    \n",
        "    # 출력 로짓과 라벨을 비교하여 정확도 계산\n",
        "    tmp_eval_accuracy = flat_accuracy(logits, label_ids)\n",
        "    eval_accuracy += tmp_eval_accuracy\n",
        "    nb_eval_steps += 1\n",
        "\n",
        "print(\"\")\n",
        "print(\"Accuracy: {0:.2f}\".format(eval_accuracy/nb_eval_steps))\n",
        "print(\"Test took: {:}\".format(format_time(time.time() - t0)))"
      ],
      "metadata": {
        "colab": {
          "base_uri": "https://localhost:8080/"
        },
        "id": "0grQyvakLsO9",
        "outputId": "048f1117-1c35-4b76-978a-90a12e94f632"
      },
      "execution_count": 28,
      "outputs": [
        {
          "output_type": "stream",
          "name": "stdout",
          "text": [
            "  Batch   100  of    387.    Elapsed: 0:00:57.\n",
            "  Batch   200  of    387.    Elapsed: 0:01:51.\n",
            "  Batch   300  of    387.    Elapsed: 0:02:45.\n",
            "\n",
            "Accuracy: 0.99\n",
            "Test took: 0:03:32\n"
          ]
        }
      ]
    },
    {
      "cell_type": "markdown",
      "source": [
        "#5. 모델 평가"
      ],
      "metadata": {
        "id": "o3mcULRQZmzQ"
      }
    },
    {
      "cell_type": "code",
      "source": [
        "#evaluate 모듈 설치 및 호출\n",
        "#!pip install evaluate\n",
        "import evaluate"
      ],
      "metadata": {
        "id": "RRHS4RcPNC8F"
      },
      "execution_count": null,
      "outputs": []
    },
    {
      "cell_type": "code",
      "source": [
        "from transformers import pipeline\n",
        "#참고자료\n",
        "#https://raki-1203.github.io/boostcamp_ai_tech/week_9/03.-single-sentence-classification-based-BERT-train/ \n",
        "\n",
        "#입력 데이터에 대한 0,1 분류 결과 출력\n",
        "def sentences_predict(sent):\n",
        "    model.eval()\n",
        "    tokenized_sent = tokenizer(\n",
        "            sent,\n",
        "            return_tensors=\"pt\",\n",
        "            truncation=True,\n",
        "            add_special_tokens=True,\n",
        "            max_length=128\n",
        "    )\n",
        "    tokenized_sent.to(device)\n",
        "    \n",
        "    with torch.no_grad():# 그라디엔트 계산 비활성화\n",
        "        outputs = model(\n",
        "            input_ids=tokenized_sent['input_ids'],\n",
        "            attention_mask=tokenized_sent['attention_mask'],\n",
        "            token_type_ids=tokenized_sent['token_type_ids']\n",
        "            )\n",
        "\n",
        "    logits = outputs[0]\n",
        "    logits = logits.detach().cpu().numpy()\n",
        "    result = np.argmax(logits)\n",
        "    return result\n",
        "\n",
        "x = test.Findings\n",
        "\n",
        "t1 = time.time() #시작 시간 설정\n",
        "\n",
        "test_ans = [] #테스트 데이터의 분류 결과\n",
        "\n",
        "for i in range(len(x)):\n",
        "  test_ans.append(sentences_predict(x[i]))\n",
        "\n",
        "#테스트(입력) 데이터 분류에 걸리는 시간\n",
        "print(\"Running Time: {:}\".format(format_time(time.time() - t1)))"
      ],
      "metadata": {
        "colab": {
          "base_uri": "https://localhost:8080/"
        },
        "id": "vaM-voYPX9rz",
        "outputId": "27458220-44d3-4394-e202-8ee0bce86619"
      },
      "execution_count": 29,
      "outputs": [
        {
          "output_type": "stream",
          "name": "stdout",
          "text": [
            "Running Time: 0:02:02\n"
          ]
        }
      ]
    },
    {
      "cell_type": "code",
      "source": [
        "from sklearn.metrics import roc_curve, roc_auc_score\n",
        "\n",
        "# roc_curve 그래프 그리기\n",
        "fpr, tpr, thresholds = roc_curve(labels, test_ans)\n",
        "\n",
        "roc = pd.DataFrame({'FPR(Fall-out)': fpr, 'TPRate(Recall)': tpr, 'Threshold': thresholds})\n",
        "\n",
        "plt.scatter(fpr, tpr)\n",
        "plt.title('model 1 ROC curve')\n",
        "plt.xlabel('FPR(Fall-out)')\n",
        "plt.ylabel('TPR(Recall)');\n",
        "plt.plot(fpr, tpr, 'r--')\n",
        "\n",
        "optimal_idx = np.argmax(tpr - fpr)\n",
        "optimal_threshold = thresholds[optimal_idx]\n",
        "\n",
        "# 최적의 threshold\n",
        "#print('idx:',optimal_idx, 'threshold:', optimal_threshold)\n",
        "\n",
        "# AUC 면적 구하기\n",
        "auc_score = roc_auc_score(labels, test_ans)\n",
        "print('AUC:',round(auc_score,6))"
      ],
      "metadata": {
        "colab": {
          "base_uri": "https://localhost:8080/",
          "height": 333
        },
        "id": "IdhqYPx5Pkqp",
        "outputId": "ec470009-9c73-48bb-854c-e2f85beeef02"
      },
      "execution_count": 30,
      "outputs": [
        {
          "output_type": "stream",
          "name": "stdout",
          "text": [
            "AUC: 0.941292\n"
          ]
        },
        {
          "output_type": "display_data",
          "data": {
            "text/plain": [
              "<Figure size 432x288 with 1 Axes>"
            ],
            "image/png": "[encoded data removed]"
          },
          "metadata": {
            "needs_background": "light"
          }
        }
      ]
    }
  ]
}